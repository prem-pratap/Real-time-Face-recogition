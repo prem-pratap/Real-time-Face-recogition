{
 "cells": [
  {
   "cell_type": "code",
   "execution_count": null,
   "metadata": {},
   "outputs": [],
   "source": [
    "#importing all modules\n",
    "import cv2\n",
    "import numpy as np\n",
    "import dlib\n",
    "import os\n",
    "import face_recognition as fr\n",
    "cap =cv2.VideoCapture(0)"
   ]
  },
  {
   "cell_type": "code",
   "execution_count": 2,
   "metadata": {},
   "outputs": [],
   "source": [
    "import boto3\n",
    "s3 = boto3.client('s3')"
   ]
  },
  {
   "cell_type": "code",
   "execution_count": 3,
   "metadata": {},
   "outputs": [],
   "source": [
    "#calling function to detect face\n",
    "detector=dlib.get_frontal_face_detector()\n",
    "#creating a directory path\n",
    "dir_name=\"/home/tushar/Desktop/Real-Time-Face-Recognition/images/\"\n"
   ]
  },
  {
   "cell_type": "code",
   "execution_count": 1,
   "metadata": {},
   "outputs": [
    {
     "ename": "NameError",
     "evalue": "name 'dir_name' is not defined",
     "output_type": "error",
     "traceback": [
      "\u001b[0;31m---------------------------------------------------------------------------\u001b[0m",
      "\u001b[0;31mNameError\u001b[0m                                 Traceback (most recent call last)",
      "\u001b[0;32m<ipython-input-1-1df05715cd36>\u001b[0m in \u001b[0;36m<module>\u001b[0;34m\u001b[0m\n\u001b[0;32m----> 1\u001b[0;31m \u001b[0mimages\u001b[0m\u001b[0;34m=\u001b[0m\u001b[0mos\u001b[0m\u001b[0;34m.\u001b[0m\u001b[0mlistdir\u001b[0m\u001b[0;34m(\u001b[0m\u001b[0mdir_name\u001b[0m\u001b[0;34m)\u001b[0m\u001b[0;31m#getting all images in list\u001b[0m\u001b[0;34m\u001b[0m\u001b[0m\n\u001b[0m\u001b[1;32m      2\u001b[0m \u001b[0mprint\u001b[0m\u001b[0;34m(\u001b[0m\u001b[0mimages\u001b[0m\u001b[0;34m)\u001b[0m\u001b[0;34m\u001b[0m\u001b[0m\n\u001b[1;32m      3\u001b[0m \u001b[0;32mfor\u001b[0m \u001b[0mimage\u001b[0m \u001b[0;32min\u001b[0m \u001b[0mimages\u001b[0m\u001b[0;34m:\u001b[0m\u001b[0;34m\u001b[0m\u001b[0m\n\u001b[1;32m      4\u001b[0m                 \u001b[0mimage_path\u001b[0m\u001b[0;34m=\u001b[0m\u001b[0mdir_name\u001b[0m\u001b[0;34m+\u001b[0m\u001b[0;34m\"/\"\u001b[0m\u001b[0;34m+\u001b[0m\u001b[0mimage\u001b[0m\u001b[0;34m\u001b[0m\u001b[0m\n\u001b[1;32m      5\u001b[0m                 \u001b[0mprint\u001b[0m\u001b[0;34m(\u001b[0m\u001b[0mimage_path\u001b[0m\u001b[0;34m)\u001b[0m\u001b[0;34m\u001b[0m\u001b[0m\n",
      "\u001b[0;31mNameError\u001b[0m: name 'dir_name' is not defined"
     ]
    }
   ],
   "source": [
    "images=os.listdir(dir_name)#getting all images in list\n",
    "print(images)\n",
    "for image in images:\n",
    "                image_path=dir_name+\"/\"+image\n",
    "                print(image_path)\n",
    "                paths=image_path.split(os.sep)[7]\n",
    "                print(paths)\n",
    "                '''#dir=os.chdir('/home/tushar/Desktop/Real-Time-Face-Recognition/images/')\n",
    "                v=str(dir)\n",
    "                print()\n",
    "                drive, path_and_file = os.path.splitdrive('/home/tushar/Desktop/Real-Time-Face-Recognition/images/')\n",
    "                print('path',path_and_file)\n",
    "                path, file = os.path.split(path_and_file)\n",
    "                print('file',file)\n",
    "                \n",
    "                #pa=dir.split()\n",
    "                #print(pa)'''\n",
    "                #s3.upload_file(paths,\"adhocml\",paths)"
   ]
  },
  {
   "cell_type": "code",
   "execution_count": 4,
   "metadata": {},
   "outputs": [
    {
     "name": "stdout",
     "output_type": "stream",
     "text": [
      "['', 'home', 'tushar', 'Desktop', 'Real-Time-Face-Recognition', 'images', '*']\n"
     ]
    }
   ],
   "source": [
    "\n",
    "\n",
    "your_path = r\"/home/tushar/Desktop/Real-Time-Face-Recognition/images/*\"\n",
    "path_list = your_path.split(os.sep)\n",
    "print (path_list)"
   ]
  },
  {
   "cell_type": "code",
   "execution_count": 5,
   "metadata": {
    "scrolled": true
   },
   "outputs": [
    {
     "name": "stdout",
     "output_type": "stream",
     "text": [
      "Directory already exist\n",
      "True\n",
      "[True]\n",
      "[True]\n",
      "[True]\n",
      "[True]\n",
      "[True]\n",
      "[True]\n",
      "[True]\n",
      "[True]\n",
      "[True]\n",
      "[True]\n",
      "[True]\n",
      "[False]\n",
      "[True]\n",
      "[False]\n",
      "[True]\n",
      "[True]\n",
      "[False]\n",
      "[True]\n",
      "[True]\n",
      "[True]\n",
      "[False]\n",
      "[True]\n",
      "[True]\n",
      "[True]\n",
      "[False]\n",
      "[True]\n"
     ]
    }
   ],
   "source": [
    "try:\n",
    "    os.mkdir(dir_name)\n",
    "except:\n",
    "    print(\"Directory already exist\")\n",
    "\n",
    "count=0#initializing a variable for getting maximum value of image'name \n",
    "known_face_encodings_list=[]#list to store known face encodings \n",
    "\n",
    "while cap.isOpened():\n",
    "    status,frame=cap.read()\n",
    "    #gray=cv2.cvtColor(frame,cv2.COLOR_BGR2GRAY)\n",
    "    rgb_frame=frame[:,:,::-1]#converting frame into RGB frame\n",
    "    faces=fr.face_locations(rgb_frame)#getting face location in rgb frame \n",
    "    for (top,right,bottom,left) in faces:\n",
    "        #cv2.rectangle(frame, (left, top), (right, bottom), (0, 0, 255), 2)\n",
    "        images=os.listdir(dir_name)#getting all images in list\n",
    "        #print(images)\n",
    "        #print('1',images[0])\n",
    "        #file1=images[0]\n",
    "        #print(type(file1))\n",
    "        \n",
    "        #s3.upload_file(file1,'adhocml',file1)\n",
    "        if len(images)==0:#if there is  no image in list then save the first image with 0.jpg\n",
    "            #-----\n",
    "            file_path=cv2.imwrite(dir_name+\"/\"+str(count)+\".jpg\",rgb_frame)\n",
    "            print(file_path)\n",
    "            #curr = os.system('ls')\n",
    "            #print('curr',curr)\n",
    "            '''file1=str(images[0])\n",
    "            print('first_file',file1)\n",
    "            print(type(images))\n",
    "            '''\n",
    "            # uploading first images to s3\n",
    "            #s3.upload_file(images,'adhocml',images)\n",
    "            #----\n",
    "        else:\n",
    "            counter=[]#this list has all names of images in the form [1,2,3,4]\n",
    "            for image in images:\n",
    "                counter.append(int(image.split(\".\")[0]))#spliting image name \n",
    "                count=max(counter)+1#assigning count a value which is one greater than the value of name of last image \n",
    "                image_path=dir_name+\"/\"+image#path to each image\n",
    "                \n",
    "                #print('image path',image_path)\n",
    "                \n",
    "                \n",
    "                known_face= fr.load_image_file(image_path)#loading each image\n",
    "                known_face_encoding=fr.face_encodings(known_face)[0]#getting face encodings of image\n",
    "                #print(\"**\",known_face_encoding)\n",
    "                #known_face_encodings_list.append(known_face_encoding)\n",
    "                face_locations=fr.face_locations(rgb_frame)\n",
    "                #getting current face encodings\n",
    "                current_face_encoding=fr.face_encodings(rgb_frame,face_locations)\n",
    "                #print(\"****\",current_face_encoding)\n",
    "                for face_encoding in current_face_encoding:\n",
    "                    matches=fr.compare_faces([known_face_encoding],face_encoding)#compare current face encoding with known face encoding\n",
    "                    print(matches)\n",
    "                    if True in matches:\n",
    "                        pass\n",
    "                    else:\n",
    "                        files2=cv2.imwrite(dir_name+\"/\"+str(count)+\".jpg\",rgb_frame)\n",
    "                        #print('files2',files2)\n",
    "                        #s3.upload_file(files2,'adhocml',files2)\n",
    "\n",
    "                        break\n",
    "                        \n",
    "              \n",
    "        \n",
    "    cv2.imshow(\"live\",frame)\n",
    "    if (cv2.waitKey(50) & 0xff==ord('q')):\n",
    "        break\n",
    "cv2.destroyAllWindows()\n",
    "cap.release()\n"
   ]
  },
  {
   "cell_type": "code",
   "execution_count": null,
   "metadata": {},
   "outputs": [],
   "source": []
  },
  {
   "cell_type": "code",
   "execution_count": null,
   "metadata": {},
   "outputs": [],
   "source": []
  },
  {
   "cell_type": "code",
   "execution_count": null,
   "metadata": {},
   "outputs": [],
   "source": []
  }
 ],
 "metadata": {
  "kernelspec": {
   "display_name": "Python 3",
   "language": "python",
   "name": "python3"
  },
  "language_info": {
   "codemirror_mode": {
    "name": "ipython",
    "version": 3
   },
   "file_extension": ".py",
   "mimetype": "text/x-python",
   "name": "python",
   "nbconvert_exporter": "python",
   "pygments_lexer": "ipython3",
   "version": "3.5.2"
  }
 },
 "nbformat": 4,
 "nbformat_minor": 2
}
